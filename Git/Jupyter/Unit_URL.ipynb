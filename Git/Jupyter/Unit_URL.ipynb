{
 "cells": [
  {
   "cell_type": "code",
   "execution_count": 1,
   "id": "2caa23f3",
   "metadata": {},
   "outputs": [],
   "source": [
    "import requests"
   ]
  },
  {
   "cell_type": "code",
   "execution_count": 2,
   "id": "8ccb4ed4",
   "metadata": {},
   "outputs": [
    {
     "data": {
      "text/plain": [
       "<Response [200]>"
      ]
     },
     "execution_count": 2,
     "metadata": {},
     "output_type": "execute_result"
    }
   ],
   "source": [
    "page = requests.get(\"https://www.flowverse.co/projects\")\n",
    "page"
   ]
  },
  {
   "cell_type": "code",
   "execution_count": 3,
   "id": "50c1badb",
   "metadata": {},
   "outputs": [],
   "source": [
    "from bs4 import BeautifulSoup\n",
    "soup = BeautifulSoup(page.content, 'html.parser')"
   ]
  },
  {
   "cell_type": "code",
   "execution_count": 4,
   "id": "0e0fbae7",
   "metadata": {},
   "outputs": [
    {
     "name": "stdout",
     "output_type": "stream",
     "text": [
      "[<h1 class=\"blog-title-home\"> San Francisco 49ers NFTs</h1>, <h1 class=\"blog-title-home\">.find</h1>, <h1 class=\"blog-title-home\">ATTA</h1>, <h1 class=\"blog-title-home\">Add More Funds</h1>, <h1 class=\"blog-title-home\">Alchemy</h1>, <h1 class=\"blog-title-home\">Anchorage Digital</h1>, <h1 class=\"blog-title-home\">Arlequin</h1>, <h1 class=\"blog-title-home\">Athletes Unlimited</h1>, <h1 class=\"blog-title-home\">AvatarArt</h1>, <h1 class=\"blog-title-home\">BALLERZ</h1>, <h1 class=\"blog-title-home\">BLT</h1>, <h1 class=\"blog-title-home\">Ballerz Sales</h1>, <h1 class=\"blog-title-home\">Barter Yard Club</h1>, <h1 class=\"blog-title-home\">Basic Beasts</h1>, <h1 class=\"blog-title-home\">Big Dipper</h1>, <h1 class=\"blog-title-home\">Binance</h1>, <h1 class=\"blog-title-home\">Biscuits n Groovy</h1>, <h1 class=\"blog-title-home\">Bitku</h1>, <h1 class=\"blog-title-home\">Blockanime</h1>, <h1 class=\"blog-title-home\">Blocklete Games</h1>, <h1 class=\"blog-title-home\">Blockparty</h1>, <h1 class=\"blog-title-home\">Blocto</h1>, <h1 class=\"blog-title-home\">BloctoBay</h1>, <h1 class=\"blog-title-home\">BloctoSwap</h1>, <h1 class=\"blog-title-home\">C-3PFLO</h1>, <h1 class=\"blog-title-home\">CATA Network</h1>, <h1 class=\"blog-title-home\">Canes Vault</h1>, <h1 class=\"blog-title-home\">Chainmonsters</h1>, <h1 class=\"blog-title-home\">Cheeze</h1>, <h1 class=\"blog-title-home\">Chicago Bulls NFTs</h1>, <h1 class=\"blog-title-home\">Clink</h1>, <h1 class=\"blog-title-home\">CoinEx</h1>, <h1 class=\"blog-title-home\">CoinList</h1>, <h1 class=\"blog-title-home\">CoinSpot</h1>, <h1 class=\"blog-title-home\">Collab.land</h1>, <h1 class=\"blog-title-home\">Crave Critics</h1>, <h1 class=\"blog-title-home\">Crust Network</h1>, <h1 class=\"blog-title-home\">Crypto Dappy</h1>, <h1 class=\"blog-title-home\">Crypto Pharaohs</h1>, <h1 class=\"blog-title-home\">Crypto.com</h1>, <h1 class=\"blog-title-home\">CryptoPiggos</h1>, <h1 class=\"blog-title-home\">CryptoSlam!</h1>, <h1 class=\"blog-title-home\">Cryptoys</h1>, <h1 class=\"blog-title-home\">Dapper</h1>, <h1 class=\"blog-title-home\">Dark Country</h1>, <h1 class=\"blog-title-home\">Decentology</h1>, <h1 class=\"blog-title-home\">DiamondDream</h1>, <h1 class=\"blog-title-home\">DigiFinex</h1>, <h1 class=\"blog-title-home\">Disrupt Art</h1>, <h1 class=\"blog-title-home\">Dooverse</h1>, <h1 class=\"blog-title-home\">Emerald City </h1>, <h1 class=\"blog-title-home\">Enemy Metal</h1>, <h1 class=\"blog-title-home\">Epix</h1>, <h1 class=\"blog-title-home\">Eternal</h1>, <h1 class=\"blog-title-home\">Evaluate.market</h1>, <h1 class=\"blog-title-home\">Evolution</h1>, <h1 class=\"blog-title-home\">FLOAT</h1>, <h1 class=\"blog-title-home\">FLOW</h1>, <h1 class=\"blog-title-home\">FUSD</h1>, <h1 class=\"blog-title-home\">FanCraze</h1>, <h1 class=\"blog-title-home\">Fanfare</h1>, <h1 class=\"blog-title-home\">Fantastec Swap</h1>, <h1 class=\"blog-title-home\">Filecoin</h1>, <h1 class=\"blog-title-home\">Finoa</h1>, <h1 class=\"blog-title-home\">Flovatar</h1>, <h1 class=\"blog-title-home\">Flow Playground</h1>, <h1 class=\"blog-title-home\">FlowMarketCap</h1>, <h1 class=\"blog-title-home\">Flowns</h1>, <h1 class=\"blog-title-home\">Flowscan</h1>, <h1 class=\"blog-title-home\">Flowty</h1>, <h1 class=\"blog-title-home\">Flowverse</h1>, <h1 class=\"blog-title-home\">Fright Club</h1>, <h1 class=\"blog-title-home\">Gate.io</h1>, <h1 class=\"blog-title-home\">Geniace</h1>, <h1 class=\"blog-title-home\">Genies</h1>, <h1 class=\"blog-title-home\">GigLabs (NFT Bridge)</h1>, <h1 class=\"blog-title-home\">Goated Goats</h1>, <h1 class=\"blog-title-home\">Google Cloud</h1>, <h1 class=\"blog-title-home\">Graffle</h1>, <h1 class=\"blog-title-home\">Hoodlums</h1>, <h1 class=\"blog-title-home\">NOWwhere</h1>, <h1 class=\"blog-title-home\">New York Giants</h1>, <h1 class=\"blog-title-home\">Olympic Games Jam: Beijing 2022</h1>, <h1 class=\"blog-title-home\">Athletes Unlimited</h1>, <h1 class=\"blog-title-home\">BLT</h1>, <h1 class=\"blog-title-home\">Blocklete Games</h1>, <h1 class=\"blog-title-home\">Blockparty</h1>, <h1 class=\"blog-title-home\">BloctoSwap</h1>, <h1 class=\"blog-title-home\">Canes Vault</h1>, <h1 class=\"blog-title-home\">Chainmonsters</h1>, <h1 class=\"blog-title-home\">Dark Country</h1>, <h1 class=\"blog-title-home\">DiamondDream</h1>, <h1 class=\"blog-title-home\">Enemy Metal</h1>, <h1 class=\"blog-title-home\">Eternal</h1>, <h1 class=\"blog-title-home\">Evolution</h1>, <h1 class=\"blog-title-home\">FLOW</h1>, <h1 class=\"blog-title-home\">FUSD</h1>, <h1 class=\"blog-title-home\">Inception Animals</h1>, <h1 class=\"blog-title-home\">In|RIFT</h1>, <h1 class=\"blog-title-home\">KOTD x Niftory</h1>, <h1 class=\"blog-title-home\">Kollektion</h1>, <h1 class=\"blog-title-home\">Legaci</h1>, <h1 class=\"blog-title-home\">Mantle Finance</h1>, <h1 class=\"blog-title-home\">Mint NFT</h1>, <h1 class=\"blog-title-home\">MotoGP™ Ignition</h1>, <h1 class=\"blog-title-home\">Mynft</h1>, <h1 class=\"blog-title-home\">NBA Top Shot</h1>, <h1 class=\"blog-title-home\">NFTLX</h1>, <h1 class=\"blog-title-home\">RCRDSHP</h1>, <h1 class=\"blog-title-home\">SUBS</h1>, <h1 class=\"blog-title-home\">Seussibles</h1>, <h1 class=\"blog-title-home\">Sturdy Exchange</h1>, <h1 class=\"blog-title-home\">Tatum</h1>, <h1 class=\"blog-title-home\">The Football Club</h1>, <h1 class=\"blog-title-home\">The Party Gooberz</h1>, <h1 class=\"blog-title-home\">VIV3</h1>, <h1 class=\"blog-title-home\">Vault by CNN</h1>, <h1 class=\"blog-title-home\">Versus</h1>, <h1 class=\"blog-title-home\">nWayPlay</h1>, <h1 class=\"blog-title-home\">Async Art</h1>, <h1 class=\"blog-title-home\">AvatarArt</h1>, <h1 class=\"blog-title-home\">Barter Yard Club</h1>, <h1 class=\"blog-title-home\">Blockparty</h1>, <h1 class=\"blog-title-home\">BloctoBay</h1>, <h1 class=\"blog-title-home\">Cheeze</h1>, <h1 class=\"blog-title-home\">DAZN MOMENTS</h1>, <h1 class=\"blog-title-home\">Disrupt Art</h1>, <h1 class=\"blog-title-home\">Dooverse</h1>, <h1 class=\"blog-title-home\">Epix</h1>, <h1 class=\"blog-title-home\">Eternal</h1>, <h1 class=\"blog-title-home\">Fanfare</h1>, <h1 class=\"blog-title-home\">Fantastec Swap</h1>, <h1 class=\"blog-title-home\">Gaia Marketplace</h1>, <h1 class=\"blog-title-home\">Geniace</h1>, <h1 class=\"blog-title-home\">Genies</h1>, <h1 class=\"blog-title-home\">Limitd</h1>, <h1 class=\"blog-title-home\">Mynft</h1>, <h1 class=\"blog-title-home\">NBA Top Shot</h1>, <h1 class=\"blog-title-home\">NFT TopExpo</h1>, <h1 class=\"blog-title-home\">Neuno</h1>, <h1 class=\"blog-title-home\">OVO NFT platform</h1>, <h1 class=\"blog-title-home\">OpenLocker</h1>, <h1 class=\"blog-title-home\">OpenSea</h1>, <h1 class=\"blog-title-home\">Pictta</h1>, <h1 class=\"blog-title-home\">Published NFT</h1>, <h1 class=\"blog-title-home\">RCRDSHP</h1>, <h1 class=\"blog-title-home\">Raceday NFT</h1>, <h1 class=\"blog-title-home\">Rarible</h1>, <h1 class=\"blog-title-home\">SUBS</h1>, <h1 class=\"blog-title-home\">Starly</h1>, <h1 class=\"blog-title-home\">Sturdy Exchange</h1>, <h1 class=\"blog-title-home\">VIV3</h1>, <h1 class=\"blog-title-home\">Versus</h1>, <h1 class=\"blog-title-home\">mintNFT</h1>, <h1 class=\"blog-title-home\">misa.art</h1>, <h1 class=\"blog-title-home\">xtingles</h1>, <h1 class=\"blog-title-home\"> San Francisco 49ers NFTs</h1>, <h1 class=\"blog-title-home\">ARTIFACTs by SCMP</h1>, <h1 class=\"blog-title-home\">BALLERZ</h1>, <h1 class=\"blog-title-home\">Biscuits n Groovy</h1>, <h1 class=\"blog-title-home\">Bitku</h1>, <h1 class=\"blog-title-home\">Canes Vault</h1>, <h1 class=\"blog-title-home\">Chicago Bulls NFTs</h1>, <h1 class=\"blog-title-home\">Crave Critics</h1>, <h1 class=\"blog-title-home\">CryptoKitties</h1>, <h1 class=\"blog-title-home\">CryptoPiggos</h1>, <h1 class=\"blog-title-home\">Cryptoys</h1>, <h1 class=\"blog-title-home\">Everbloom</h1>, <h1 class=\"blog-title-home\">Evolution</h1>, <h1 class=\"blog-title-home\">FLOAT</h1>, <h1 class=\"blog-title-home\">Fantastec Swap</h1>, <h1 class=\"blog-title-home\">Flovatar</h1>, <h1 class=\"blog-title-home\">Fright Club</h1>, <h1 class=\"blog-title-home\">Hoodlums</h1>, <h1 class=\"blog-title-home\">Jambb</h1>, <h1 class=\"blog-title-home\">KOTD x Niftory</h1>, <h1 class=\"blog-title-home\">König Galerie</h1>, <h1 class=\"blog-title-home\">Legaci</h1>, <h1 class=\"blog-title-home\">LÜM</h1>, <h1 class=\"blog-title-home\">MomentoNFT</h1>, <h1 class=\"blog-title-home\">MotoGP™ Ignition</h1>, <h1 class=\"blog-title-home\">Mugen ARt</h1>, <h1 class=\"blog-title-home\">NBA GLeague NFTs</h1>, <h1 class=\"blog-title-home\">NBA Top Shot</h1>, <h1 class=\"blog-title-home\">Neuno</h1>, <h1 class=\"blog-title-home\">New York Giants</h1>, <h1 class=\"blog-title-home\">OnChainMonkey</h1>, <h1 class=\"blog-title-home\">OneShots™</h1>, <h1 class=\"blog-title-home\">Pacific League Exciting Moments β</h1>, <h1 class=\"blog-title-home\">PixASCII</h1>, <h1 class=\"blog-title-home\">RCRDSHP</h1>, <h1 class=\"blog-title-home\">SUBS</h1>, <h1 class=\"blog-title-home\">Seussibles</h1>, <h1 class=\"blog-title-home\">Shareef Genesis Collection</h1>, <h1 class=\"blog-title-home\">Socks by Flowverse</h1>, <h1 class=\"blog-title-home\">SportsIcon</h1>, <h1 class=\"blog-title-home\">TKNZ</h1>, <h1 class=\"blog-title-home\">The Dwyane Wade NFT Collection</h1>, <h1 class=\"blog-title-home\">The Party Gooberz</h1>, <h1 class=\"blog-title-home\">Tical Universe</h1>, <h1 class=\"blog-title-home\">UFC Strike</h1>, <h1 class=\"blog-title-home\">Vault by CNN</h1>, <h1 class=\"blog-title-home\">Youtube Creator Collection</h1>, <h1 class=\"blog-title-home\">nWayPlay</h1>, <h1 class=\"blog-title-home\">round21</h1>, <h1 class=\"blog-title-home\">tibles</h1>, <h1 class=\"blog-title-home\">Arlequin</h1>, <h1 class=\"blog-title-home\">Basic Beasts</h1>, <h1 class=\"blog-title-home\">Blockanime</h1>, <h1 class=\"blog-title-home\">Blocklete Games</h1>, <h1 class=\"blog-title-home\">Chainmonsters</h1>, <h1 class=\"blog-title-home\">Crypto Universe</h1>, <h1 class=\"blog-title-home\">Dark Country</h1>, <h1 class=\"blog-title-home\">Enemy Metal</h1>, <h1 class=\"blog-title-home\">Inception Animals</h1>, <h1 class=\"blog-title-home\">Metaverse Football League (MFL)</h1>, <h1 class=\"blog-title-home\">MotoGP™ Ignition</h1>, <h1 class=\"blog-title-home\">Moxy</h1>, <h1 class=\"blog-title-home\">Olympic Games Jam: Beijing 2022</h1>, <h1 class=\"blog-title-home\">RacingTime</h1>, <h1 class=\"blog-title-home\">The Football Club</h1>, <h1 class=\"blog-title-home\">Zeedz</h1>, <h1 class=\"blog-title-home\"> San Francisco 49ers NFTs</h1>, <h1 class=\"blog-title-home\">Athletes Unlimited</h1>, <h1 class=\"blog-title-home\">Blocklete Games</h1>, <h1 class=\"blog-title-home\">Canes Vault</h1>, <h1 class=\"blog-title-home\">Chicago Bulls NFTs</h1>, <h1 class=\"blog-title-home\">DAZN MOMENTS</h1>, <h1 class=\"blog-title-home\">DiamondDream</h1>, <h1 class=\"blog-title-home\">Dooverse</h1>, <h1 class=\"blog-title-home\">FanCraze</h1>, <h1 class=\"blog-title-home\">Fantastec Swap</h1>, <h1 class=\"blog-title-home\">LaLigaOnFlow</h1>, <h1 class=\"blog-title-home\">Metaverse Football League (MFL)</h1>, <h1 class=\"blog-title-home\">Moment Nerd</h1>, <h1 class=\"blog-title-home\">NBA GLeague NFTs</h1>, <h1 class=\"blog-title-home\">NBA Top Shot</h1>, <h1 class=\"blog-title-home\">NFL ALL DAY</h1>, <h1 class=\"blog-title-home\">Neo Collectibles</h1>, <h1 class=\"blog-title-home\">New York Giants</h1>, <h1 class=\"blog-title-home\">OneFootball </h1>, <h1 class=\"blog-title-home\">OpenLocker</h1>, <h1 class=\"blog-title-home\">Pacific League Exciting Moments β</h1>, <h1 class=\"blog-title-home\">Pixel Playerzzz</h1>, <h1 class=\"blog-title-home\">Raceday NFT</h1>, <h1 class=\"blog-title-home\">Sacramento Kings</h1>, <h1 class=\"blog-title-home\">Silverlight</h1>, <h1 class=\"blog-title-home\">Sportium</h1>, <h1 class=\"blog-title-home\">SportsIcon</h1>, <h1 class=\"blog-title-home\">The Football Club</h1>, <h1 class=\"blog-title-home\">The Player's Lounge</h1>, <h1 class=\"blog-title-home\">UFC Strike</h1>, <h1 class=\"blog-title-home\">nWayPlay</h1>, <h1 class=\"blog-title-home\">Add More Funds</h1>, <h1 class=\"blog-title-home\">Ballerz Sales</h1>, <h1 class=\"blog-title-home\">Big Dipper</h1>, <h1 class=\"blog-title-home\">C-3PFLO</h1>, <h1 class=\"blog-title-home\">CryptoSlam!</h1>, <h1 class=\"blog-title-home\">Evaluate.market</h1>, <h1 class=\"blog-title-home\">FlowMarketCap</h1>, <h1 class=\"blog-title-home\">Flowscan</h1>, <h1 class=\"blog-title-home\">Graffle</h1>, <h1 class=\"blog-title-home\">LiveToken</h1>, <h1 class=\"blog-title-home\">MomentRanks</h1>, <h1 class=\"blog-title-home\">Own the Moment</h1>, <h1 class=\"blog-title-home\">Rayvin</h1>, <h1 class=\"blog-title-home\">RookShot.Market</h1>, <h1 class=\"blog-title-home\">Sturdy Sales Bot</h1>, <h1 class=\"blog-title-home\">The First Mint</h1>, <h1 class=\"blog-title-home\">TopShoters</h1>, <h1 class=\"blog-title-home\">Topshot Explorer</h1>, <h1 class=\"blog-title-home\">Genies</h1>, <h1 class=\"blog-title-home\">In|RIFT</h1>, <h1 class=\"blog-title-home\">NFTLX</h1>, <h1 class=\"blog-title-home\">Neuno</h1>, <h1 class=\"blog-title-home\">SNKRHUD</h1>, <h1 class=\"blog-title-home\">The Fabricant</h1>, <h1 class=\"blog-title-home\">The Football Club</h1>, <h1 class=\"blog-title-home\">The Next Cartel</h1>, <h1 class=\"blog-title-home\">BALLERZ</h1>, <h1 class=\"blog-title-home\">Crypto Pharaohs</h1>, <h1 class=\"blog-title-home\">CryptoPiggos</h1>, <h1 class=\"blog-title-home\">Dugout Dawgz NFT</h1>, <h1 class=\"blog-title-home\">Flovatar</h1>, <h1 class=\"blog-title-home\">Flunks</h1>, <h1 class=\"blog-title-home\">Genies</h1>, <h1 class=\"blog-title-home\">Goated Goats</h1>, <h1 class=\"blog-title-home\">Hoodlums</h1>, <h1 class=\"blog-title-home\">Moment Nerd</h1>, <h1 class=\"blog-title-home\">SNKRHUD</h1>, <h1 class=\"blog-title-home\">Schmoes</h1>, <h1 class=\"blog-title-home\">The Party Gooberz</h1>, <h1 class=\"blog-title-home\">The Player's Lounge</h1>, <h1 class=\"blog-title-home\">Anchorage Digital</h1>, <h1 class=\"blog-title-home\">Blocto</h1>, <h1 class=\"blog-title-home\">Dapper</h1>, <h1 class=\"blog-title-home\">Finoa</h1>, <h1 class=\"blog-title-home\">Ledger</h1>, <h1 class=\"blog-title-home\">Math Wallet</h1>, <h1 class=\"blog-title-home\">Talken</h1>, <h1 class=\"blog-title-home\">BloctoSwap</h1>, <h1 class=\"blog-title-home\">Flowty</h1>, <h1 class=\"blog-title-home\">IncrementFi</h1>, <h1 class=\"blog-title-home\">Mantle Finance</h1>, <h1 class=\"blog-title-home\">NFTfi</h1>, <h1 class=\"blog-title-home\">Pawnfi</h1>, <h1 class=\"blog-title-home\">Schmoes Swap</h1>, <h1 class=\"blog-title-home\">Binance</h1>, <h1 class=\"blog-title-home\">BloctoSwap</h1>, <h1 class=\"blog-title-home\">CoinEx</h1>, <h1 class=\"blog-title-home\">CoinList</h1>, <h1 class=\"blog-title-home\">CoinSpot</h1>, <h1 class=\"blog-title-home\">Crypto.com</h1>, <h1 class=\"blog-title-home\">DigiFinex</h1>, <h1 class=\"blog-title-home\">Gate.io</h1>, <h1 class=\"blog-title-home\">Huobi Global</h1>, <h1 class=\"blog-title-home\">Kraken</h1>, <h1 class=\"blog-title-home\">KuCoin</h1>, <h1 class=\"blog-title-home\">OKEx</h1>, <h1 class=\"blog-title-home\">Swyftx</h1>, <h1 class=\"blog-title-home\">BLT</h1>, <h1 class=\"blog-title-home\">BUSD</h1>, <h1 class=\"blog-title-home\">CHEDDA</h1>, <h1 class=\"blog-title-home\">DUST</h1>, <h1 class=\"blog-title-home\">FLOW</h1>, <h1 class=\"blog-title-home\">FUSD</h1>, <h1 class=\"blog-title-home\">GENI</h1>, <h1 class=\"blog-title-home\">MOX</h1>, <h1 class=\"blog-title-home\">STARLY</h1>, <h1 class=\"blog-title-home\">USDC</h1>, <h1 class=\"blog-title-home\">.find</h1>, <h1 class=\"blog-title-home\">Blocto</h1>, <h1 class=\"blog-title-home\">CryptoCollectibles365</h1>, <h1 class=\"blog-title-home\">Everbloom</h1>, <h1 class=\"blog-title-home\">Infinite Objects</h1>, <h1 class=\"blog-title-home\">Lazy.com</h1>, <h1 class=\"blog-title-home\">Matrix World</h1>, <h1 class=\"blog-title-home\">Nifted</h1>, <h1 class=\"blog-title-home\">RareRooms</h1>, <h1 class=\"blog-title-home\">some.place</h1>, <h1 class=\"blog-title-home\">Async Art</h1>, <h1 class=\"blog-title-home\">BloctoBay</h1>, <h1 class=\"blog-title-home\">Disrupt Art</h1>, <h1 class=\"blog-title-home\">Geniace</h1>, <h1 class=\"blog-title-home\">Mynft</h1>, <h1 class=\"blog-title-home\">NOWwhere</h1>, <h1 class=\"blog-title-home\">OpenSea</h1>, <h1 class=\"blog-title-home\">Rarible</h1>, <h1 class=\"blog-title-home\">THiNG.FUND</h1>, <h1 class=\"blog-title-home\">TheMasterPiece</h1>, <h1 class=\"blog-title-home\">VIV3</h1>, <h1 class=\"blog-title-home\">Versus</h1>, <h1 class=\"blog-title-home\">misa.art</h1>, <h1 class=\"blog-title-home\">Biscuits n Groovy</h1>, <h1 class=\"blog-title-home\">Fanfare</h1>, <h1 class=\"blog-title-home\">Gigr</h1>, <h1 class=\"blog-title-home\">Kollektion</h1>, <h1 class=\"blog-title-home\">LÜM</h1>, <h1 class=\"blog-title-home\">Melos</h1>, <h1 class=\"blog-title-home\">RCRDSHP</h1>, <h1 class=\"blog-title-home\">Rhthm</h1>, <h1 class=\"blog-title-home\">TuneGONFT</h1>, <h1 class=\"blog-title-home\">Unblocked</h1>, <h1 class=\"blog-title-home\">.find</h1>, <h1 class=\"blog-title-home\">Alchemy</h1>, <h1 class=\"blog-title-home\">Barter Yard Club</h1>, <h1 class=\"blog-title-home\">CATA Network</h1>, <h1 class=\"blog-title-home\">Collab.land</h1>, <h1 class=\"blog-title-home\">Crust Network</h1>, <h1 class=\"blog-title-home\">Dapper Collectives (previously Brud)</h1>, <h1 class=\"blog-title-home\">Emerald City </h1>, <h1 class=\"blog-title-home\">FLOAT</h1>, <h1 class=\"blog-title-home\">Filecoin</h1>, <h1 class=\"blog-title-home\">GigLabs (NFT Bridge)</h1>, <h1 class=\"blog-title-home\">Google Cloud</h1>, <h1 class=\"blog-title-home\">Graffle</h1>, <h1 class=\"blog-title-home\">LAVA</h1>, <h1 class=\"blog-title-home\">Mint NFT</h1>, <h1 class=\"blog-title-home\">MoonPay</h1>, <h1 class=\"blog-title-home\">NFT Genius</h1>, <h1 class=\"blog-title-home\">Niftory</h1>, <h1 class=\"blog-title-home\">Shopify</h1>, <h1 class=\"blog-title-home\">Tatum</h1>, <h1 class=\"blog-title-home\">Wonderverse</h1>, <h1 class=\"blog-title-home\">nameless™</h1>, <h1 class=\"blog-title-home\">Crypto Dappy</h1>, <h1 class=\"blog-title-home\">Decentology</h1>, <h1 class=\"blog-title-home\">Flow Playground</h1>, <h1 class=\"blog-title-home\">Blocto</h1>, <h1 class=\"blog-title-home\">Emerald City </h1>, <h1 class=\"blog-title-home\">Flovatar</h1>, <h1 class=\"blog-title-home\">GENI</h1>, <h1 class=\"blog-title-home\">Mantle Finance</h1>, <h1 class=\"blog-title-home\">Starly</h1>, <h1 class=\"blog-title-home\">THiNG.FUND</h1>]\n"
     ]
    }
   ],
   "source": [
    "name_set_w_tag = soup.find_all('h1', class_ = 'blog-title-home')\n",
    "print(name_set_w_tag)"
   ]
  },
  {
   "cell_type": "code",
   "execution_count": 5,
   "id": "d8c6a1b1",
   "metadata": {},
   "outputs": [
    {
     "name": "stdout",
     "output_type": "stream",
     "text": [
      "[' San Francisco 49ers NFTs', '.find', 'ATTA', 'Add More Funds', 'Alchemy', 'Anchorage Digital', 'Arlequin', 'Athletes Unlimited', 'AvatarArt', 'BALLERZ', 'BLT', 'Ballerz Sales', 'Barter Yard Club', 'Basic Beasts', 'Big Dipper', 'Binance', 'Biscuits n Groovy', 'Bitku', 'Blockanime', 'Blocklete Games', 'Blockparty', 'Blocto', 'BloctoBay', 'BloctoSwap', 'C-3PFLO', 'CATA Network', 'Canes Vault', 'Chainmonsters', 'Cheeze', 'Chicago Bulls NFTs', 'Clink', 'CoinEx', 'CoinList', 'CoinSpot', 'Collab.land', 'Crave Critics', 'Crust Network', 'Crypto Dappy', 'Crypto Pharaohs', 'Crypto.com', 'CryptoPiggos', 'CryptoSlam!', 'Cryptoys', 'Dapper', 'Dark Country', 'Decentology', 'DiamondDream', 'DigiFinex', 'Disrupt Art', 'Dooverse', 'Emerald City ', 'Enemy Metal', 'Epix', 'Eternal', 'Evaluate.market', 'Evolution', 'FLOAT', 'FLOW', 'FUSD', 'FanCraze', 'Fanfare', 'Fantastec Swap', 'Filecoin', 'Finoa', 'Flovatar', 'Flow Playground', 'FlowMarketCap', 'Flowns', 'Flowscan', 'Flowty', 'Flowverse', 'Fright Club', 'Gate.io', 'Geniace', 'Genies', 'GigLabs (NFT Bridge)', 'Goated Goats', 'Google Cloud', 'Graffle', 'Hoodlums', 'NOWwhere', 'New York Giants', 'Olympic Games Jam: Beijing 2022', 'Athletes Unlimited', 'BLT', 'Blocklete Games', 'Blockparty', 'BloctoSwap', 'Canes Vault', 'Chainmonsters', 'Dark Country', 'DiamondDream', 'Enemy Metal', 'Eternal', 'Evolution', 'FLOW', 'FUSD', 'Inception Animals', 'In|RIFT', 'KOTD x Niftory', 'Kollektion', 'Legaci', 'Mantle Finance', 'Mint NFT', 'MotoGP™ Ignition', 'Mynft', 'NBA Top Shot', 'NFTLX', 'RCRDSHP', 'SUBS', 'Seussibles', 'Sturdy Exchange', 'Tatum', 'The Football Club', 'The Party Gooberz', 'VIV3', 'Vault by CNN', 'Versus', 'nWayPlay', 'Async Art', 'AvatarArt', 'Barter Yard Club', 'Blockparty', 'BloctoBay', 'Cheeze', 'DAZN MOMENTS', 'Disrupt Art', 'Dooverse', 'Epix', 'Eternal', 'Fanfare', 'Fantastec Swap', 'Gaia Marketplace', 'Geniace', 'Genies', 'Limitd', 'Mynft', 'NBA Top Shot', 'NFT TopExpo', 'Neuno', 'OVO NFT platform', 'OpenLocker', 'OpenSea', 'Pictta', 'Published NFT', 'RCRDSHP', 'Raceday NFT', 'Rarible', 'SUBS', 'Starly', 'Sturdy Exchange', 'VIV3', 'Versus', 'mintNFT', 'misa.art', 'xtingles', ' San Francisco 49ers NFTs', 'ARTIFACTs by SCMP', 'BALLERZ', 'Biscuits n Groovy', 'Bitku', 'Canes Vault', 'Chicago Bulls NFTs', 'Crave Critics', 'CryptoKitties', 'CryptoPiggos', 'Cryptoys', 'Everbloom', 'Evolution', 'FLOAT', 'Fantastec Swap', 'Flovatar', 'Fright Club', 'Hoodlums', 'Jambb', 'KOTD x Niftory', 'König Galerie', 'Legaci', 'LÜM', 'MomentoNFT', 'MotoGP™ Ignition', 'Mugen ARt', 'NBA GLeague NFTs', 'NBA Top Shot', 'Neuno', 'New York Giants', 'OnChainMonkey', 'OneShots™', 'Pacific League Exciting Moments β', 'PixASCII', 'RCRDSHP', 'SUBS', 'Seussibles', 'Shareef Genesis Collection', 'Socks by Flowverse', 'SportsIcon', 'TKNZ', 'The Dwyane Wade NFT Collection', 'The Party Gooberz', 'Tical Universe', 'UFC Strike', 'Vault by CNN', 'Youtube Creator Collection', 'nWayPlay', 'round21', 'tibles', 'Arlequin', 'Basic Beasts', 'Blockanime', 'Blocklete Games', 'Chainmonsters', 'Crypto Universe', 'Dark Country', 'Enemy Metal', 'Inception Animals', 'Metaverse Football League (MFL)', 'MotoGP™ Ignition', 'Moxy', 'Olympic Games Jam: Beijing 2022', 'RacingTime', 'The Football Club', 'Zeedz', ' San Francisco 49ers NFTs', 'Athletes Unlimited', 'Blocklete Games', 'Canes Vault', 'Chicago Bulls NFTs', 'DAZN MOMENTS', 'DiamondDream', 'Dooverse', 'FanCraze', 'Fantastec Swap', 'LaLigaOnFlow', 'Metaverse Football League (MFL)', 'Moment Nerd', 'NBA GLeague NFTs', 'NBA Top Shot', 'NFL ALL DAY', 'Neo Collectibles', 'New York Giants', 'OneFootball ', 'OpenLocker', 'Pacific League Exciting Moments β', 'Pixel Playerzzz', 'Raceday NFT', 'Sacramento Kings', 'Silverlight', 'Sportium', 'SportsIcon', 'The Football Club', \"The Player's Lounge\", 'UFC Strike', 'nWayPlay', 'Add More Funds', 'Ballerz Sales', 'Big Dipper', 'C-3PFLO', 'CryptoSlam!', 'Evaluate.market', 'FlowMarketCap', 'Flowscan', 'Graffle', 'LiveToken', 'MomentRanks', 'Own the Moment', 'Rayvin', 'RookShot.Market', 'Sturdy Sales Bot', 'The First Mint', 'TopShoters', 'Topshot Explorer', 'Genies', 'In|RIFT', 'NFTLX', 'Neuno', 'SNKRHUD', 'The Fabricant', 'The Football Club', 'The Next Cartel', 'BALLERZ', 'Crypto Pharaohs', 'CryptoPiggos', 'Dugout Dawgz NFT', 'Flovatar', 'Flunks', 'Genies', 'Goated Goats', 'Hoodlums', 'Moment Nerd', 'SNKRHUD', 'Schmoes', 'The Party Gooberz', \"The Player's Lounge\", 'Anchorage Digital', 'Blocto', 'Dapper', 'Finoa', 'Ledger', 'Math Wallet', 'Talken', 'BloctoSwap', 'Flowty', 'IncrementFi', 'Mantle Finance', 'NFTfi', 'Pawnfi', 'Schmoes Swap', 'Binance', 'BloctoSwap', 'CoinEx', 'CoinList', 'CoinSpot', 'Crypto.com', 'DigiFinex', 'Gate.io', 'Huobi Global', 'Kraken', 'KuCoin', 'OKEx', 'Swyftx', 'BLT', 'BUSD', 'CHEDDA', 'DUST', 'FLOW', 'FUSD', 'GENI', 'MOX', 'STARLY', 'USDC', '.find', 'Blocto', 'CryptoCollectibles365', 'Everbloom', 'Infinite Objects', 'Lazy.com', 'Matrix World', 'Nifted', 'RareRooms', 'some.place', 'Async Art', 'BloctoBay', 'Disrupt Art', 'Geniace', 'Mynft', 'NOWwhere', 'OpenSea', 'Rarible', 'THiNG.FUND', 'TheMasterPiece', 'VIV3', 'Versus', 'misa.art', 'Biscuits n Groovy', 'Fanfare', 'Gigr', 'Kollektion', 'LÜM', 'Melos', 'RCRDSHP', 'Rhthm', 'TuneGONFT', 'Unblocked', '.find', 'Alchemy', 'Barter Yard Club', 'CATA Network', 'Collab.land', 'Crust Network', 'Dapper Collectives (previously Brud)', 'Emerald City ', 'FLOAT', 'Filecoin', 'GigLabs (NFT Bridge)', 'Google Cloud', 'Graffle', 'LAVA', 'Mint NFT', 'MoonPay', 'NFT Genius', 'Niftory', 'Shopify', 'Tatum', 'Wonderverse', 'nameless™', 'Crypto Dappy', 'Decentology', 'Flow Playground', 'Blocto', 'Emerald City ', 'Flovatar', 'GENI', 'Mantle Finance', 'Starly', 'THiNG.FUND']\n"
     ]
    }
   ],
   "source": [
    "name_set = []\n",
    "for item in name_set_w_tag:\n",
    "  name_set.append(item.string)\n",
    "print(name_set)"
   ]
  },
  {
   "cell_type": "code",
   "execution_count": 6,
   "id": "3a7dfba7",
   "metadata": {},
   "outputs": [
    {
     "name": "stdout",
     "output_type": "stream",
     "text": [
      "['The San Francisco 49ers are minting officially licensed NFTs on Flow for fans to own', 'A place to find people and things on the Flow Blockchain', 'An entertainment metaverse where everyone can create, play and earn through Games + Social', 'NBA Top Shot tools for looking at lowest ask and sales charts as well as setting price alerts', 'Allows developers to seamlessly access Flow and provides the tools they need to supercharge their dApps', 'A regulated crypto bank that provides custody and staking support for the Flow token', 'Artist Metaverse with a paint-to-earn and vote-to-earn system', 'An all-new model for pro athletes and sports releasing NFTs on Flow', 'Mint and trade curated physical artworks on Flow', 'BALLERZ is a basketball-inspired generative NFT set on Flow ', 'The utility and governance token of Blocto, which serves as the foundation of its ecosystem ', 'Twitter bot to track Ballerz sales', 'The first NFT swap club built on Flow', 'Pokémon-inspired NFT collectibles game by 10-yr old & big bro. Collect, evolve, breed, and trade beasts. Play-2-earn game on Flow.', 'An open-source block explorer and token management tool serving Flow', 'Binance is the largest cryptocurrency exchange in the world in terms of daily trading volume', 'Stream exclusive music from your favorite artists, and collect NFT album art', ' A generative haiku NFT - generated and stored completely on the Flow Blockchain.', 'An officially licensed anime and manga NFT collectibles platform', 'A first ever investment-style golf management NFT mobile app play to earn game, where your golf game skill determines your outcomes! ', 'Premium NFT marketplace that now fully supports the minting and trading of NFTs on Flow', 'Next generation wallet allowing users to explore the crypto world hassle-free with a user-friendly interface', 'Trade your favourite Flow NFTs on BloctoBay', 'The first decentralised exchange on Flow, built by Blocto', 'Twitter bot to track created and purchased Flovatar events, and sometimes nonsense', 'One-stop Storage Solution for Flow Blockchain NFTs', 'The official NFT marketplace for the Miami Hurricanes', 'Cross-platform massively multiplayer RPG where you catch, battle, trade and compete with digital monsters', 'Mint photos into NFTs and sell them on the Blockchain', 'The Chicago Bulls are minting officially licensed NFTs on Flow for fans to own', 'Geosocial network & gaming platform', 'The Global Digital Coin Exchange', 'A crypto exchange that held the Flow token community sale and allows the trading, staking of the Flow token', 'An Australian based crypto exchange that allows the trading of the Flow token', 'Community management app that uses Discord and Telegram bots to verify who holds certain NFTs', 'The dining club - reinvented featuring collectibles from iconic food brands and personalities ', 'Provides a package of comprehensive decentralized storage solutions for both Web3.0 end users and developers', 'A practical online course directed at developers who want to get started learning blockchain development on Flow', 'A collection of 7006 majestic collectables to help you manifest the powers and magic of the gods and change the world', 'A crypto exchange that allows the trading of the Flow token and also has a partnership with the UFC', '10,000 uniquely talented CryptoPiggos', 'NFT Sales volume rankings with other useful metrics', 'Intelligent, fully interactive digital toys that live on the blockchain', 'Make purchases and store your collectibles in Dapper while exploring dApps and games on Flow', \"NFT collectible trading card game that's based in the American Gothic setting inspired by Hearthstone and Magic: The Gathering\", 'Build composable apps in under 15 mins on Ethereum, Flow, Solana, Polygon & more', \"Japan's first baseball card NFT platform on Flow\", 'A crypto exchange that allows the trading of the Flow token', 'NFT marketplace for artists & collectors focused on social impact', 'Revolutionary digital asset platform for users to collect, trade, and engage with Korea’s booming cultural economy ', 'A DAO focused on developing the future tooling for all DAOs on Flow', 'NFT collection that is set across the galaxy, where the first collection is the base on which the Enemy Metal Universe will be built', 'Epix is a premium NFT collectibles extravaganza featuring the most prestigious brands, entertainment showbiz, and IP holders', 'Eternal moments are NFT video clips of highlights of streamers, where a proportion of each transaction goes back to the streamer', 'Analytics for NBA Top Shot and other digital collectibles', 'Limited edition NFT series from Ben Mauro that was created over the course of 10 years', 'A Flow-enabled proof of attendance platform built by Emerald DAO', \"Flow's native currency which is key to maintaining and operating the Flow blockchain. It can be integrated into dApps for payments, transactions and earning rewards\", 'The first USD-backed stablecoin issued as a fungible token on Flow backed by Prime Trust', 'Digital video collectibles of iconic Cricket Moments.', 'The most accessible open marketplace for music NFTs', 'Discover, collect and swap officially licensed Arsenal FC, Borussia Dortmund and Real Madrid CF NFTs', \"A decentralized storage network designed to store humanity's most important information\", 'Finoa is in collaboration with CoinList to bring institutional-grade custody and staking to the FLOW network', 'An NFT world where users can create their own characters in any creative and fun way they like', 'A platform where developers can work on the fundamentals of developing on-chain currencies, collectibles, marketplaces, and more, on Flow', 'Source for NBA TopShot market data and moment rankings', 'Flow-based Domain Name Service where every domain is an NFT', 'A block explorer for Flow', 'Peer-to-peer (P2P) lending platform focused on Flow NFTs, where collectors can secure short-term loans on their NFTs', 'Discover applications built exclusively on the Flow Blockchain', 'Exclusive Horror Digital Collectibles and Experiences Featuring Icons like Tony Moran', 'A crypto exchange that allows the trading of the Flow token', 'Curated NFT collectibles marketplace for culture’s icons', 'A digital avatar company that will be launching its marketplace on Flow', 'Easy-to-use API-driven platform and marketplace provider for brands to build flexible and scalable NFT experiences', 'Living Generative Art built on Flow Blockchain', 'Google Cloud is a network operator, offering its infrastructure to help Flow scale', 'Thin layer over Flow for reading, writing, and querying the blockchain using any language', '5000 uniquely generated characters; the First PFP project on Flow']\n"
     ]
    },
    {
     "data": {
      "text/plain": [
       "80"
      ]
     },
     "execution_count": 6,
     "metadata": {},
     "output_type": "execute_result"
    }
   ],
   "source": [
    "description_set = []\n",
    "for all_tab in soup.find_all(attrs={\"data-w-tab\": \"All\"}):\n",
    "        for i in all_tab.find_all('div', class_='text-block-2-copy'):\n",
    "            desc = str(i.string).strip('\\n')\n",
    "        #  print(desc)\n",
    "            description_set.append(desc)\n",
    "type(description_set)\n",
    "print(description_set)\n",
    "len(description_set)"
   ]
  },
  {
   "cell_type": "code",
   "execution_count": 7,
   "id": "ade891a2",
   "metadata": {},
   "outputs": [],
   "source": [
    "page1_content = requests.get(\"https://www.flowverse.co/projects?d0a49f0e_page=2\")\n",
    "page2_content = requests.get(\"https://www.flowverse.co/projects?d0a49f0e_page=3\")"
   ]
  },
  {
   "cell_type": "code",
   "execution_count": 12,
   "id": "adbff921",
   "metadata": {},
   "outputs": [],
   "source": [
    "soup_1 = BeautifulSoup(page1_content.content, \"html.parser\")\n",
    "soup_2 = BeautifulSoup(page2_content.content, \"html.parser\")"
   ]
  },
  {
   "cell_type": "code",
   "execution_count": 15,
   "id": "8f64f9f5",
   "metadata": {},
   "outputs": [
    {
     "name": "stdout",
     "output_type": "stream",
     "text": [
      "[' San Francisco 49ers NFTs', '.find', 'ATTA', 'Add More Funds', 'Alchemy', 'Anchorage Digital', 'Arlequin', 'Athletes Unlimited', 'AvatarArt', 'BALLERZ', 'BLT', 'Ballerz Sales', 'Barter Yard Club', 'Basic Beasts', 'Big Dipper', 'Binance', 'Biscuits n Groovy', 'Bitku', 'Blockanime', 'Blocklete Games', 'Blockparty', 'Blocto', 'BloctoBay', 'BloctoSwap', 'C-3PFLO', 'CATA Network', 'Canes Vault', 'Chainmonsters', 'Cheeze', 'Chicago Bulls NFTs', 'Clink', 'CoinEx', 'CoinList', 'CoinSpot', 'Collab.land', 'Crave Critics', 'Crust Network', 'Crypto Dappy', 'Crypto Pharaohs', 'Crypto.com', 'CryptoPiggos', 'CryptoSlam!', 'Cryptoys', 'Dapper', 'Dark Country', 'Decentology', 'DiamondDream', 'DigiFinex', 'Disrupt Art', 'Dooverse', 'Emerald City ', 'Enemy Metal', 'Epix', 'Eternal', 'Evaluate.market', 'Evolution', 'FLOAT', 'FLOW', 'FUSD', 'FanCraze', 'Fanfare', 'Fantastec Swap', 'Filecoin', 'Finoa', 'Flovatar', 'Flow Playground', 'FlowMarketCap', 'Flowns', 'Flowscan', 'Flowty', 'Flowverse', 'Fright Club', 'Gate.io', 'Geniace', 'Genies', 'GigLabs (NFT Bridge)', 'Goated Goats', 'Google Cloud', 'Graffle', 'Hoodlums']\n"
     ]
    },
    {
     "data": {
      "text/plain": [
       "80"
      ]
     },
     "execution_count": 15,
     "metadata": {},
     "output_type": "execute_result"
    }
   ],
   "source": [
    "name_set = []\n",
    "for all_tab in soup.find_all(attrs={\"data-w-tab\": \"All\"}):\n",
    "        for i in all_tab.find_all('h1', class_='blog-title-home'):\n",
    "            proj_name = str(i.string)\n",
    "            name_set.append(proj_name)\n",
    "type(name_set)\n",
    "print(name_set)\n",
    "len(name_set)"
   ]
  },
  {
   "cell_type": "code",
   "execution_count": 16,
   "id": "941e6c6e",
   "metadata": {},
   "outputs": [
    {
     "name": "stdout",
     "output_type": "stream",
     "text": [
      "['Huobi Global', 'Inception Animals', 'Infinite Objects', 'In|RIFT', 'Jambb', 'KOTD x Niftory', 'Kollektion', 'Kraken', 'KuCoin', 'König Galerie', 'LAVA', 'Lazy.com', 'Ledger', 'Legaci', 'Limitd', 'LiveToken', 'LÜM', 'Mantle Finance', 'Math Wallet', 'Matrix World', 'Melos', 'Mint NFT', 'Moment Nerd', 'MomentRanks', 'MomentoNFT', 'MoonPay', 'MotoGP™ Ignition', 'Mugen ARt', 'Mynft', 'NBA GLeague NFTs', 'NBA Top Shot', 'NFL ALL DAY', 'NFT TopExpo', 'NFTLX', 'Neo Collectibles', 'Neuno', 'New York Giants', 'Nifted', 'Niftory', 'OKEx', 'OVO NFT platform', 'Olympic Games Jam: Beijing 2022', 'OnChainMonkey', 'OneFootball ', 'Own the Moment', 'Pawnfi', 'PixASCII', 'Pixel Playerzzz', 'Published NFT', 'RCRDSHP', 'Raceday NFT', 'RacingTime', 'RareRooms', 'Rarible', 'Rayvin', 'Rhthm', 'RookShot.Market', 'STARLY', 'Schmoes', 'Schmoes Swap', 'Seussibles', 'Shareef Genesis Collection', 'Shopify', 'Socks by Flowverse', 'SportsIcon', 'Starly', 'Sturdy Exchange', 'Sturdy Sales Bot', 'Swyftx', 'THiNG.FUND', 'Tatum', 'The Dwyane Wade NFT Collection', 'The Fabricant', 'The First Mint', 'The Football Club', 'The Next Cartel', 'The Party Gooberz', \"The Player's Lounge\", 'TheMasterPiece', 'Tical Universe']\n"
     ]
    },
    {
     "data": {
      "text/plain": [
       "80"
      ]
     },
     "execution_count": 16,
     "metadata": {},
     "output_type": "execute_result"
    }
   ],
   "source": [
    "name_set_1 = []\n",
    "for all_tab in soup_1.find_all(attrs={\"data-w-tab\": \"All\"}):\n",
    "        for i in all_tab.find_all('h1', class_='blog-title-home'):\n",
    "            proj_name = str(i.string)\n",
    "            name_set_1.append(proj_name)\n",
    "type(name_set_1)\n",
    "print(name_set_1)\n",
    "len(name_set_1)"
   ]
  },
  {
   "cell_type": "code",
   "execution_count": 13,
   "id": "ae32a4dd",
   "metadata": {},
   "outputs": [
    {
     "name": "stdout",
     "output_type": "stream",
     "text": [
      "['TopShoters', 'Topshot Explorer', 'TuneGONFT', 'UFC Strike', 'USDC', 'Unblocked', 'VIV3', 'Vault by CNN', 'Versus', 'Youtube Creator Collection', 'Zeedz', 'mintNFT', 'misa.art', 'nWayPlay', 'round21', 'tibles', 'xtingles', 'ARTIFACTs by SCMP', 'Async Art', 'BUSD', 'ByteNext', 'CHEDDA', 'Crypto Universe', 'CryptoCollectibles365', 'DAZN MOMENTS', 'DUST', 'Dugout Dawgz NFT', 'Flunks', 'GENI', 'Gigr', 'IncrementFi', 'MOX', 'Metagood', 'Metaverse Football League (MFL)', 'Moxy', 'NFTfi', 'NOWwhere', 'OpenLocker', 'Pacific League Exciting Moments β', 'Pictta', 'SNKRHUD', 'Sacramento Kings', 'Silverlight', 'Sportium', 'TKNZ', 'Talken', 'some.place', 'CryptoKitties', 'Dapper Collectives (previously Brud)', 'Everbloom', 'Gaia Marketplace', 'LaLigaOnFlow', 'Mixi', 'NFT Genius', 'OneShots™', 'Open Meta DAO', 'OpenSea', 'SUBS', 'Wonderverse', 'nameless™']\n"
     ]
    },
    {
     "data": {
      "text/plain": [
       "60"
      ]
     },
     "execution_count": 13,
     "metadata": {},
     "output_type": "execute_result"
    }
   ],
   "source": [
    "name_set_2 = []\n",
    "for all_tab in soup_2.find_all(attrs={\"data-w-tab\": \"All\"}):\n",
    "        for i in all_tab.find_all('h1', class_='blog-title-home'):\n",
    "            proj_name = str(i.string)\n",
    "            name_set_2.append(proj_name)\n",
    "type(name_set_2)\n",
    "print(name_set_2)\n",
    "len(name_set_2)"
   ]
  },
  {
   "cell_type": "code",
   "execution_count": 18,
   "id": "57a39332",
   "metadata": {},
   "outputs": [
    {
     "name": "stdout",
     "output_type": "stream",
     "text": [
      "80 80 60\n"
     ]
    }
   ],
   "source": [
    "print(len(name_set), len(name_set_1), len(name_set_2))"
   ]
  },
  {
   "cell_type": "code",
   "execution_count": 19,
   "id": "36054ef8",
   "metadata": {},
   "outputs": [
    {
     "data": {
      "text/plain": [
       "220"
      ]
     },
     "execution_count": 19,
     "metadata": {},
     "output_type": "execute_result"
    }
   ],
   "source": [
    "len(set(name_set + name_set_1 + name_set_2))"
   ]
  },
  {
   "cell_type": "code",
   "execution_count": 20,
   "id": "ec99798d",
   "metadata": {},
   "outputs": [
    {
     "name": "stdout",
     "output_type": "stream",
     "text": [
      "['A crypto exchange that allows the trading of the Flow token', 'Online 3D metaverse game on Flow blockchain for animal lovers to explore, craft, and interact with other players through NFTs and various in-game experiences', 'A permanent video display to showcase NFTs such as NBA Top Shot', 'Digital fashion project coming to Flow', 'A digital collectibles startup on a mission to serve collectors, fans, and entertainers by unlocking the value of novel content', \"Own the biggest moments from KOTD, the world's favorite battle rap league\", 'Kollektion partners with select creators to produce high quality exclusive digital collectibles coming to Flow Blockchain', 'A crypto exchange that allows the trading of the Flow token', 'A crypto exchange that allows the trading of the Flow token', 'The contemporary art gallery with exhibition spaces in Berlin, London, Seoul, Monaco and Decentraland has a Flow NFT store on Shopify ', 'A next generation real-time API software platform for brand engagement', 'Enables users to create a single page (bio link) gallery of their NFTs including NBA Top Shots', 'Develops hardware wallet technology that provides the highest level of security for crypto assets including the Flow token', 'Non-transferrable NFTs from your favourite brands to unlock exclusive merch, tickets, videos, voting rights and more', 'Simplifying NFTs for brands, events and retailers.', 'Real time, live data and analysis for NFTs like NBA Top Shot', 'A digital community of artists and their NFT collectibles that give fans an all-access pass to owning their fandom', 'A decentralized lending platform offers an alternative for token holders and NFT collectors to get liquidity from the global crypto space.', 'A crypto wallet with 2 million users that supports Flow', 'A 3D Programmable Multichain Metaverse', 'Capture music inspiration into NFT', 'Easily create a Flow NFT storefront on Shopify', 'Create Twitter Avatars from NBA Top Shots', 'NBA Top Shot analytics and social platform', 'Own the moments that matter. Direct-to-Fan NFT Social Network', 'Payments infrastructure for crypto, the first U.S. fiat on-ramp for $FUSD', 'Licensed MotoGP™ game that provides players with two core experiences: Collection and Competition', 'A closet to keep your digital collectibles, an app to show fancy drops and a bridge to link the Metaverse', 'A Flow based NFT platform designed to connect West and East markets and provide users with a premium creation, trading, and social experience', \"The NBA G League's officially licensed digital NFT collection\", 'Buy, sell, and collect Officially Licensed NFTs of NBA highlights called \"moments\"', 'Digital video collectibles of Iconic NFL Moments by Dapper Labs', 'NFT marketplace for Dark Country NFTs', 'A luxury content studio and marketplace', 'Neo is an NFT project on the Flow Blockchain that is built around a passion for Motorcycles, NFTs, Technology and community', 'Buy, collect, wear and trade digital fashion items in a marketplace for authentic luxury fashion NFTs', 'New York Giants are minting officially licensed NFTs on Flow for fans to own', 'Showcases NFTs including NBA Top Shot moments with a physical 5 x 7\" display', 'Launch your collection. Bring digital collectibles and NFTs to all of your fans', 'A crypto exchange that allows the trading and staking of the Flow token', 'Leading platform for digital copyright issuance, trading, derivative finance and digital art exhibition', 'The officially licensed play-to-earn multiplayer mobile party game from the Olympics', 'First all on chain PFP in a single transaction; providing a new NFT on Flow to their OnChainMonkey holders', 'A football media platform highlighting news, scores, stats & more, are releasing NFTs exclusive to OneFootballers', 'Content, analytics and community site for collecting and investing in NFTs', 'The first lending & leasing market to provide fair appraisal and liquidity for Non-Standard Assets', 'Animated PixelArt collectibles in C64 PETSCII codes. Owly inspired characters from popular films, TV shows, cartoons and Anime.', '1st Pixelated Football PFP built on Flow', 'Publish books to Flow Blockchain', 'Community platform for securely trading music and related digital collectibles', 'A motorsports NFT marketplace for race fans', 'Next-generation RAC gaming experience', 'Immersive, virtual 3D environment for collectors, artists and admirers to experience their NFT collections', 'The first community owned NFT marketplace that will be launching a marketplace on Flow', 'NBA Top Shot marketplace tools and pack drop notifier', 'Collect digital collectibles from your favourite Primary Wave artists', 'Tracks rookie moment pricing and other data for NBA Top Shot', 'Utility token which serves as a medium to offer creators, collectors and the surrounding communities the ultimate experience on Starly ecosystem', 'Flow Schmoes are a collection of 10,000 unique NFTs each with their own unique art and rarity', 'Exchange any decentralized Flow NFT and Flow tokens in a peer-to-peer fashion', 'Officially licensed Dr Seuss collectibles including popular places and characters such as Cat in the Hat, Grinch, Lorax and More', \"Debut collection highlighting Shareef's emergence onto the college basketball scene\", 'Shopify is making it easier for merchants to sell NFTs (Flow, Ethereum + more to come) directly to their communities', 'Versatile NFTs that enable you to claim 1 limited edition pair of physical Flowverse Socks', 'Partners with elite athletes to release NFT videos, art and moments to their fans. May come to Flow in the future', 'Launchpad and marketplace for your gamified NFT collections', 'A platform that provides a curated NFT experience for collectors', 'Twitter bot to track Sturdy Exchange sales incl. Hoodlums ', ' A leading user friendly crypto trading platform based in Australia', 'Provides and serves artists with a full range of incubation and growth', 'Free REST API blockchain infrastructure supporting Flow', \"A collection of exclusive NFTs minted from Dwyane Wade's life\", 'Digital Fashion House launching on Flow soon', 'Covers all facets of NBA Top Shot from in depth analysis to podcasts', 'Blockchain Based Football Fantasy Manager', 'We curate and collaborate with brands, empowering them to bridge into the blockchain universe, creating unique NFTs and new experiences for fashion collectors', 'The Party Goobz are a comical generative NFT set on Flow', 'NFT community envisioned by players, built for both fans and players alike', 'TheMasterPiece is an 8K community-centered piece of art where every single pixel is an NFT. Anyone can participate buying, drawing and selling a part of TheMasterPiece.', \"Method Man's comic universe of exclusive NFTs\"]\n"
     ]
    },
    {
     "data": {
      "text/plain": [
       "80"
      ]
     },
     "execution_count": 20,
     "metadata": {},
     "output_type": "execute_result"
    }
   ],
   "source": [
    "description_set_1 = []\n",
    "for all_tab in soup_1.find_all(attrs={\"data-w-tab\": \"All\"}):\n",
    "        for i in all_tab.find_all('div', class_='text-block-2-copy'):\n",
    "            desc = str(i.string).strip('\\n')\n",
    "        #  print(desc)\n",
    "            description_set_1.append(desc)\n",
    "type(description_set_1)\n",
    "print(description_set_1)\n",
    "len(description_set_1)"
   ]
  },
  {
   "cell_type": "code",
   "execution_count": 21,
   "id": "cc0b8e89",
   "metadata": {},
   "outputs": [
    {
     "name": "stdout",
     "output_type": "stream",
     "text": [
      "['Provides analytical tools for NBA Top Shot', 'A tool that fetches info on NBA Top Shot sets', 'NFT marketplace connecting the music industry to artists', 'Buy, sell, trade, collect officially licensed UFC NFTs', 'USDC is a stablecoin that powers NBA Top Shot and will soon become available to the non-custodial Flow ecosystem', 'New NFT applications that enable music & entertainment brands to build meaningful value for their communities.', 'The first global NFT marketplace on Flow', 'Collectible NFTs to commemorate pivotal moments in history', 'Flow NFT auction platform pitting two sides against each other for \"uniques\" and \"editions\"', 'Special custom gifts given to Youtube creators as a token of their appreciation', 'A play-for-purpose game where players reduce global carbon emissions by collecting plant-inspired creatures: Zeedles', 'A premium studio & marketplace for NFTs that makes collecting NFTs simple, safe and social.', 'An online marketplace that brings emerging and established artists together and offers a range of traditional and digital art', 'Collectors can buy, sell, and earn various NFTs with officially licensed IPs such as the Olympics', 'Making standing out the new standard in sports - IRL & the metaverse; creators of RareBalls NFTs', 'Tibles are collectible digital objects that will be coming to Flow Blockchain', \"Flow marketplace for collecting, selling and trading ASMR 'Tings' \", \"ARTIFACTs by SCMP are collectible NFTs from the South China Morning Post's 118 years of archives\", 'Create Dynamic, Interactive NFTs (Art that changes over time)', \"Binance's BUSD stablecoin will soon be available on the Flow blockchain\", 'A NFT-centric Metaverse Incubator, an ecosystem revolving around NFTs', 'FLOW based token that can be used as currency on the Cheeze products such as their Photography marketplace', 'Crypto Universe is an NFT card game which is migrating and deploying its protocol layer to Flow Blockchain', 'LCDs for your NFTs incl. NBA Top Shot', 'A marketplace partnering with mixi that lets fans collect memorable moments across various sports', 'DUST will play an important role in the DAO voting and global consensus coordination for Flovatar', '8424 Dugout Dawgz NFT, Baseball prospects built on the Flow blockchain', 'A unique collection of 9999 misfits, where being different makes you special', 'Governance token for the GENIACE NFT collectibles marketplace', 'Gigr unlocks new revenue streams and creative opportunities for artists by delivering NFT solutions on the Flow blockchain', 'Decentralized Money Market & more on Flow blockchain, aiming to build the liquidity engine for flow ecosystem.', 'Moxy Platform’s primary utility token', 'NFT marketplace for collections that connect creators, causes, and their communities', 'A unique play-to-earn NFT Football game and ecosystem', 'Powering the Play to Earn Revolution', 'Soon you will be able to get a loan on your NBA Topshot and any other Flow based NFT through NFTfi', ' A two-sided blockchain-backed intelligent NFT marketplace ', 'NFTs for college athletes with Team Collectible Drops', 'Collect memorable moments and unforgettable scenes in the history of Pacific League baseball', 'First gasless, social and mobile-friendly NFT network on Flow', 'An NFT-based playground, set in Earth-326, a post-apocalyptic world where your kicks are your currency', 'The First-Ever Smart Ticket NFT Experience Pass Built on Flow Blockchain', \"Hiking app with gamification elements and the ability to 'Hike to Earn' inspired by crypto 'Play to Earn' games\", 'Redefining Sports in the Metaverse with Officially™ Licensed Digital Collectibles ', 'A museum of Gaming and eSports history', \"Korea's leading Multi-Chain Decentralized NFT Wallet\", 'Interact with like-minded others, build community and express your identity in a real-time, 3D digital space, and in real life, with AR.', \"Dapper Lab's original hit Ethereum game to purchase, collect, breed and sell virtual cats that will soon come on Flow\", 'Launching Dapper Collectives, with the mission of releasing tools to allow creators of all kinds to build their own DAO communities', 'A mobile first, one-stop shop to express, connect, collect, create, and monetize with NFTs, designed for social-media natives and creatives', 'A Flow NFT marketplace powered by NFT Genius', 'Official Digital Collectibles of Iconic LaLiga Moments', 'A media powerhouse planning to launch NFT experiences, games for consumers across Japan on Flow', 'NFT Genius is a leading digital production company transforming the way in which brands connect and interact with their customers', 'A comic NFT card collecting experience from Tibles featuring the Valiant Universe™', 'Serves as the organizing body for the Web3 open metaverse, owned and controlled by the community', \"The world's largest NFT marketplace that will integrate Flow Blockchain into its platform\", 'A community driven social media startup where its artists and creators can create \"Originals\" NFTs', 'Empowering DAO’s to launch and scale projects on a native web 3 platform', 'Empowers brands and creators to launch NFTs in a visual way without code']\n"
     ]
    },
    {
     "data": {
      "text/plain": [
       "60"
      ]
     },
     "execution_count": 21,
     "metadata": {},
     "output_type": "execute_result"
    }
   ],
   "source": [
    "description_set_2 = []\n",
    "for all_tab in soup_2.find_all(attrs={\"data-w-tab\": \"All\"}):\n",
    "        for i in all_tab.find_all('div', class_='text-block-2-copy'):\n",
    "            desc = str(i.string).strip('\\n')\n",
    "        #  print(desc)\n",
    "            description_set_2.append(desc)\n",
    "type(description_set_2)\n",
    "print(description_set_2)\n",
    "len(description_set_2)"
   ]
  },
  {
   "cell_type": "code",
   "execution_count": 26,
   "id": "a3659481",
   "metadata": {},
   "outputs": [
    {
     "name": "stdout",
     "output_type": "stream",
     "text": [
      "['#', 'https://discord.com/invite/67Q57UzcBx', '#', 'https://discord.com/invite/Ymw9NqqdgZ', 'https://discord.com/invite/u72VCg3', '#', 'https://discord.com/invite/arlequin', '#', '#', 'https://discord.com/invite/ballerznft', 'https://discord.com/invite/H34KZqF', '#', 'https://discord.gg/cnYPvJF9kV', 'https://discord.com/invite/xgFtWhwSaR', '#', '#', '#', 'https://discord.com/invite/YhcZuEdQck', '#', 'http://discord.gg/d3q2TBV8FW', 'https://discord.com/invite/qp9DqgrMCu', 'https://discord.com/invite/H34KZqF', 'https://discord.com/invite/H34KZqF', 'https://discord.com/invite/H34KZqF', '#', '#', '#', 'https://discord.com/invite/t8UMENj4pM', '#', 'https://discord.com/invite/chicagobulls', '#', '#', '#', '#', '#', '#', '#', '#', 'https://discord.com/invite/cryptopharaohs', 'https://discord.com/invite/nsp9JTC', 'https://discord.com/invite/GSdcX5URAE', 'https://discord.com/invite/tfyqQrbtX6', 'https://discord.com/invite/AKr4RAXeXB', '#', 'https://discord.com/invite/8R4SaZY', 'https://discord.com/invite/Decentology', '#', '#', '#', '#', 'https://discord.com/invite/xQfbdR2nDx', 'https://discord.com/invite/faKSfWTzdK', '#', 'https://discord.com/invite/FR2gxd8kVC', 'https://discord.com/invite/tFBU66yQ3p', 'https://discord.com/invite/9ReKpaNmJz', 'https://discord.com/invite/emeraldcity', 'https://discord.com/invite/J6fFnh2xx6', 'https://discord.com/invite/J6fFnh2xx6', 'https://discord.com/invite/Wx327SMf88', 'https://discord.gg/RYM2nT8d7b', 'http://discord.gg/7VUV82V2N2', '#', '#', 'https://discord.com/invite/A8h2BZTpwP', 'https://discord.com/invite/J6fFnh2xx6', 'https://discord.com/invite/xnZyYTssJ4', '#', '#', '#', 'http://discord.gg/flowverse', 'https://discord.com/invite/3kqygXaPsp', '#', 'https://discord.gg/Zsv8fDyNrg', 'https://discord.com/invite/geniesuniverse', '#', 'https://discord.com/invite/goatedgoats', '#', '#', 'https://discord.com/invite/8kwr7Qqf46']\n",
      "['https://49ers.nftstores.app/', 'https://find.xyz/', 'https://www.atta.zone/', 'https://www.addmorefunds.com/', 'https://www.alchemy.com/', 'https://www.anchorage.com/', 'https://www.arlequin.gg/', 'https://viv3.com/athletesunlimited', 'https://avatarart.io/', 'https://www.ballerz.xyz/', 'https://token.blocto.app/', 'https://twitter.com/BallerzSales', 'https://www.barteryard.club/', 'http://basicbeasts.io', 'https://bigdipper.live/', 'https://www.binance.com/', 'https://www.bngroovy.com/', 'https://bitku.art/', 'http://blockanime.io', 'https://www.blockletegames.com/', 'https://blockparty.co/', 'https://blocto.portto.io/en/', 'https://bay.blocto.app/', 'https://swap.blocto.app/#/swap', 'https://twitter.com/C_3PFLO', 'https://www.cata.network/', 'https://www.canesvault.com/', 'https://playchainmonsters.com/', 'https://cheeze.com/', 'https://nft.bulls.com/', 'https://clink.social/', 'https://www.coinex.com/', 'https://coinlist.co/', 'https://www.coinspot.com.au/', 'https://collab.land/', 'https://crave.niftory.com/', 'https://www.crust.network/', 'https://www.cryptodappy.com/', 'https://cryptopharaohs.world/', 'https://crypto.com/', 'https://www.rareworx.com/', 'https://cryptoslam.io/', 'https://www.getcryptoys.com/', 'https://www.meetdapper.com/', 'https://darkcountry.io/', 'https://www.decentology.com/', 'https://diamonddream.cards/', 'https://www.digifinex.com/', 'https://disrupt.art/', 'https://dooverse.io/', 'https://discord.com/invite/xQfbdR2nDx', 'https://enemymetal.com/', 'https://thisisepix.com/', 'https://eternal.gg/', 'https://evaluate.market/', 'https://www.evolution-collect.com/', 'https://discord.com/invite/emeraldcity', 'https://www.onflow.org/', 'https://docs.onflow.org/fusd/', 'https://www.fancraze.com/', 'https://fanfare.fm', 'https://www.swap-fantastec.com/?_branch_match_id=933665939348065837', 'https://filecoin.io/', 'https://www.finoa.io/', 'https://flovatar.com/', 'https://www.onflow.org/play', 'https://flowmarketcap.com/', 'https://www.flowns.org/', 'https://flowscan.org/', 'http://flowty.io', 'http://flowverse.co', 'https://frightclub.niftory.com/', 'https://www.gate.io/', 'https://www.geniace.com/', 'https://genies.com/', 'http://GigLabs.io', 'https://goatedgoats.com/', 'https://cloud.google.com/', 'https://graffle.io/', 'https://twitter.com/HoodlumsNFT']\n"
     ]
    },
    {
     "data": {
      "text/plain": [
       "80"
      ]
     },
     "execution_count": 26,
     "metadata": {},
     "output_type": "execute_result"
    }
   ],
   "source": [
    "website_set = []\n",
    "discord_set = []\n",
    "twitter_set = []\n",
    "for all_tab in soup.find_all(attrs={\"data-w-tab\": \"All\"}):\n",
    "        for i in all_tab.find_all('div', class_='social-icons-home'):\n",
    "            info_set = []\n",
    "            for m in i.find_all('a'):\n",
    "                info_set.append(str(m['href']))\n",
    "#                 print(m)\n",
    "            website_set.append(info_set[0])\n",
    "            twitter_set.append(info_set[2])\n",
    "            discord_set.append(info_set[3])\n",
    "\n",
    "print(discord_set)\n",
    "print(website_set)\n",
    "len(website_set)"
   ]
  },
  {
   "cell_type": "code",
   "execution_count": 28,
   "id": "29de7758",
   "metadata": {},
   "outputs": [
    {
     "name": "stdout",
     "output_type": "stream",
     "text": [
      "['#', 'https://discord.com/invite/BXS5KgfnCr', '#', 'https://discord.com/invite/pr4VPea5k8', 'https://discord.com/invite/VWWfaEP8CA', 'https://discord.com/invite/BzBwBRB4j3', 'https://discord.com/invite/FwYscuQh53', '#', '#', '#', '#', '#', '#', '#', '#', '#', 'https://discord.com/invite/lumxyz', 'https://discord.gg/7x35b2QK54', 'https://discord.com/invite/gXSfnk5eP5', 'https://discord.com/invite/w5AyHNVsyw', 'https://discord.com/invite/Wg7Quep8zW', '#', '#', 'https://discord.com/invite/pfk7rpkJyt', 'https://discord.com/invite/4XXTfy73Bq', '#', 'https://discord.com/invite/exDFGFA', 'https://discord.com/invite/dubF6XfFEw', 'https://discord.com/invite/25WjpTDGFY', '#', 'https://discord.com/invite/nbatopshot', 'https://discord.com/invite/5K6qyTzj2k', '#', 'https://discord.com/invite/p7tKVQ5FEW', 'http://discord.gg/neonft', '#', '#', '#', '#', '#', 'https://discord.gg/AYVkjX5s3d', '#', 'https://discord.gg/ocm', '#', 'https://docs.google.com/forms/d/1cD-2tcV_72W-5Hol_Mn_ak2xlYODzoIyQd3VXQyXd7s/viewform?edit_requested=true', 'https://discord.com/invite/BtN9rGhcQt', 'https://discord.com/channels/921016623765266473/921016623765266475', 'https://discord.gg/tM9z6hqN', '#', 'https://discord.com/invite/rcrdshp', 'http://discord.gg/2csV7HyuGx', 'https://discord.com/invite/VKMcqGCUa6', 'https://discord.com/invite/uZtPKkbQzB', 'https://discord.com/invite/cdaFbV5', '#', 'https://discord.com/invite/4xtgU28e2R', '#', 'https://discord.com/invite/Starly', 'https://discord.com/invite/vqXqNDkdPB', 'https://discord.com/invite/schmoes', '#', '#', '#', 'https://discord.com/invite/FlowVerse', 'https://discord.com/invite/mfAx4nzqEe', 'https://discord.com/invite/starly', 'http://discord.gg/sturdyexchange', '#', '#', 'https://discord.com/invite/NaCNA8BHy5', '#', '#', 'https://discord.com/invite/krHys5rcdD', '#', 'https://discord.gg/65PYeApeHQ', '#', 'https://discord.gg/4FZCM4mGFp', 'https://discord.com/invite/mxZmYbQGpg', 'https://discord.com/invite/UaumCf3C5t', 'https://discord.com/invite/mzqXxjeTmF']\n",
      "['https://www.huobi.com/en-us/', 'https://www.inceptionanimals.com', 'https://infiniteobjects.com/', 'https://twitter.com/InRift_NFT', 'https://www.jambb.com/', 'https://kotd.niftory.com/', 'https://klktn.com/', 'https://www.kraken.com/', 'https://www.kucoin.com/', 'https://koenig.art/collections/jonas-lund-on-this-day', 'https://www.lava.ai/', 'https://lazy.com/', 'https://www.ledger.com/', 'https://www.legaci.shop/', 'http://www.limitd.co', 'http://livetoken.co', 'http://www.lum.fm', 'https://mantlefi.com/', 'https://mathwallet.org/en-us/', 'https://matrixworld.org/home', 'https://www.melos.studio', 'https://www.mint.store/', 'https://www.momentnerd.com/avatar', 'https://momentranks.com/', 'https://momentonft.com/', 'https://www.moonpay.com/', 'https://motogp-ignition.com/', 'https://www.mugenart.io/', 'https://mynft.io/', 'https://www.gleaguenfts.com/', 'https://nbatopshot.com/', 'https://nfl.dapperlabs.com/', 'https://topexpo.io/', 'http://nftlx.io/', 'http://neocollectibles.xyz/', 'https://neuno.io/', 'https://giants.nflallday.com/', 'https://nifted.com/', 'https://niftory.com/', 'https://www.okex.com/', 'https://www.ovo.space/', 'https://olympicgamesjam.nwayplay.com/', 'https://onchainmonkey.com/index.html', 'https://xmas.onefootball.com/', 'https://otmnft.com/', 'https://pawnfi.com/', 'https://www.pixascii.com', 'https://rarible.com/pixelplayers', 'https://publishednft.io/', 'https://app.rcrdshp.com/', 'https://www.racedaynft.com/', 'https://www.racing-time.com/#/', 'https://www.rarerooms.io/', 'https://rarible.com/', 'https://www.rayvin.io/', 'https://inrhthm.com/', 'http://rookshot.market/', 'https://starly.io/token', 'https://schmoes.io', 'https://schwap.io/', 'https://seussibles.com/', 'https://ongaia.com/shareef', 'https://www.shopify.com/', 'https://www.flowverse.co/socks', 'https://sportsicon.co/', 'https://www.starly.io/', 'https://sturdy.exchange/', 'https://twitter.com/SturdySalesBot', 'https://swyftx.com/au/', 'https://thing.fund/', 'https://tatum.io/', 'https://nft.dwyanewade.com/', 'https://www.thefabricant.com/?ltclid=343898a3-7fdd-4e70-ad95-13d63fb3c255', 'https://www.thefirstmint.com/', 'https://www.thefootballclub.com/', 'https://thenextcartel.com/tc2171-the-next-cartel', 'http://partymansion.io', 'https://www.theplayerslounge.io/', 'https://themasterpiece.art/', 'https://www.ticaluniverse.com/']\n"
     ]
    },
    {
     "data": {
      "text/plain": [
       "80"
      ]
     },
     "execution_count": 28,
     "metadata": {},
     "output_type": "execute_result"
    }
   ],
   "source": [
    "website_set_1 = []\n",
    "discord_set_1 = []\n",
    "twitter_set_1 = []\n",
    "for all_tab in soup_1.find_all(attrs={\"data-w-tab\": \"All\"}):\n",
    "        for i in all_tab.find_all('div', class_='social-icons-home'):\n",
    "            info_set = []\n",
    "            for m in i.find_all('a'):\n",
    "                info_set.append(str(m['href']))\n",
    "#                 print(m)\n",
    "            website_set_1.append(info_set[0])\n",
    "            twitter_set_1.append(info_set[2])\n",
    "            discord_set_1.append(info_set[3])\n",
    "\n",
    "print(discord_set_1)\n",
    "print(website_set_1)\n",
    "len(website_set_1)"
   ]
  },
  {
   "cell_type": "code",
   "execution_count": null,
   "id": "4b5a3e10",
   "metadata": {},
   "outputs": [],
   "source": []
  },
  {
   "cell_type": "code",
   "execution_count": null,
   "id": "22fb6dcd",
   "metadata": {},
   "outputs": [],
   "source": []
  },
  {
   "cell_type": "code",
   "execution_count": null,
   "id": "14724a2e",
   "metadata": {},
   "outputs": [],
   "source": []
  },
  {
   "cell_type": "code",
   "execution_count": null,
   "id": "4f2ab506",
   "metadata": {},
   "outputs": [],
   "source": []
  },
  {
   "cell_type": "code",
   "execution_count": null,
   "id": "33b40bb3",
   "metadata": {},
   "outputs": [],
   "source": []
  },
  {
   "cell_type": "code",
   "execution_count": null,
   "id": "9d286f62",
   "metadata": {},
   "outputs": [],
   "source": []
  },
  {
   "cell_type": "code",
   "execution_count": null,
   "id": "e4ff09dd",
   "metadata": {},
   "outputs": [],
   "source": []
  },
  {
   "cell_type": "code",
   "execution_count": null,
   "id": "419bd223",
   "metadata": {},
   "outputs": [],
   "source": []
  },
  {
   "cell_type": "code",
   "execution_count": null,
   "id": "895ab2c1",
   "metadata": {},
   "outputs": [],
   "source": []
  }
 ],
 "metadata": {
  "kernelspec": {
   "display_name": "Python 3 (ipykernel)",
   "language": "python",
   "name": "python3"
  },
  "language_info": {
   "codemirror_mode": {
    "name": "ipython",
    "version": 3
   },
   "file_extension": ".py",
   "mimetype": "text/x-python",
   "name": "python",
   "nbconvert_exporter": "python",
   "pygments_lexer": "ipython3",
   "version": "3.9.6"
  }
 },
 "nbformat": 4,
 "nbformat_minor": 5
}
